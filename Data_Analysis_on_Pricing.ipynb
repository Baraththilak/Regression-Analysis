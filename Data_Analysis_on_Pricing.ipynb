{
 "cells": [
  {
   "cell_type": "code",
   "execution_count": null,
   "id": "b384e3dd",
   "metadata": {},
   "outputs": [],
   "source": [
    "# Power Point Presentation file(Data Analysis on Pricing Pecision.pptx) \n",
    "# is attached for the overiew of the analysis"
   ]
  },
  {
   "cell_type": "code",
   "execution_count": null,
   "id": "5b713583",
   "metadata": {
    "scrolled": true
   },
   "outputs": [],
   "source": [
    "library(xlsx)\n",
    "library(dplyr)\n",
    "library(readxl)\n",
    "library(tidyr)\n",
    "library(caTools)\n",
    "library(corrplot)\n",
    "library(caret)\n",
    "library(randomForest)"
   ]
  },
  {
   "cell_type": "code",
   "execution_count": null,
   "id": "c03c4207",
   "metadata": {},
   "outputs": [],
   "source": [
    "setwd(\"C:/Users/Barath/Downloads\") \n",
    "Test_csv<-read_excel(\"Test.csv.xlsx\")"
   ]
  },
  {
   "cell_type": "code",
   "execution_count": null,
   "id": "4f56c76d",
   "metadata": {},
   "outputs": [],
   "source": [
    "# Converiting the Change Reason Pricing into a factor and numeric variable\n",
    "# Replacing the NA values with MEAN\n",
    "Test_csv<-Test_csv %>% mutate(\n",
    "  reason_for_pricing=as.numeric(as.factor(Test_csv$change_reason_pricing))) %>%\n",
    "  mutate_if(is.numeric, ~replace_na(.,mean(., na.rm = TRUE))) %>% as.data.frame()\n",
    "\n",
    "summary(Test_csv)"
   ]
  },
  {
   "cell_type": "code",
   "execution_count": null,
   "id": "42d1b577",
   "metadata": {},
   "outputs": [],
   "source": [
    "#Removing the Unwanted Columns from the Data\n",
    "Test_csv[,c(\"order_id_new\",\"order_try_id_new\",\"device_name\",\"driver_app_version\",\"rider_app_version\",\"order_try_state\",\n",
    "            \"calc_created\",\"b_state\",\"order_state\",\"prediction_price_type\",\"device_token\",\"driver_device_uid_new\",\n",
    "            \"entered_by\",\"change_reason_pricing\",\"ticket_id_new\")]<-list(NULL)\n",
    "#Checking if NA vlaues are present\n",
    "sum(is.na(Test_csv))"
   ]
  },
  {
   "cell_type": "code",
   "execution_count": null,
   "id": "98176899",
   "metadata": {},
   "outputs": [],
   "source": [
    "#Checking the Correlation Between the Variables\n",
    "corrplot(cor(Test_csv))"
   ]
  },
  {
   "cell_type": "code",
   "execution_count": null,
   "id": "3b284b42",
   "metadata": {},
   "outputs": [],
   "source": [
    "#Determining if the Outliers are present in the Data\n",
    "boxplot(Test_csv[,c(colnames(Test_csv))])"
   ]
  },
  {
   "cell_type": "code",
   "execution_count": null,
   "id": "f9fadef8",
   "metadata": {},
   "outputs": [],
   "source": [
    "## IF OUTLIER TREATMENT NOT NEEDED COMMENT THE WHOLE CELL\n",
    "\n",
    "\n",
    "#Outlier Treatment\n",
    "detect_outlier <- function(x) {\n",
    "# calculate first quantile\n",
    " Quantile1 <- quantile(x, probs=.25)\n",
    " # calculate third quantile\n",
    " Quantile3 <- quantile(x, probs=.75)\n",
    " # calculate inter quartile range\n",
    " IQR = Quantile3-Quantile1\n",
    " # return true or false\n",
    " x > Quantile3 + (IQR*1.5) | x < Quantile1 - (IQR*1.5)\n",
    " }\n",
    "\n",
    "remove_outlier <- function(dataframe,columns=names(dataframe)) {\n",
    "# for loop to traverse in columns vector\n",
    " for (col in columns) {\n",
    "# remove observation if it satisfies outlier function\n",
    "   dataframe <- dataframe[!detect_outlier(dataframe[[col]]),]\n",
    " }\n",
    " print(dataframe)\n",
    " }\n",
    "\n",
    "Price_Data<-remove_outlier(Test_csv,c(colnames(Test_csv)))\n",
    "\n",
    "\n"
   ]
  },
  {
   "cell_type": "code",
   "execution_count": null,
   "id": "aa2dcc94",
   "metadata": {},
   "outputs": [],
   "source": [
    "# Price_Data <-Test_csv      # Uncomment the line if not performing outlier treatment\n",
    "upfront_y<-Price_Data$metered_price\n",
    "# Removing the Tareget Variable from the data\n",
    "Price_Data<-Price_Data[,-c(1)]"
   ]
  },
  {
   "cell_type": "code",
   "execution_count": null,
   "id": "3420db11",
   "metadata": {},
   "outputs": [],
   "source": [
    "# Spliting the Train and Test Data\n",
    "set.seed(123)\n",
    "split<-createDataPartition(upfront_y,times=1,p=0.7,list=FALSE)\n",
    "\n",
    "train<-Price_Data[split,]\n",
    "test<-Price_Data[-split,]\n",
    "\n",
    "trainy<-upfront_y[split]\n",
    "testy<-upfront_y[-split]\n",
    "\n",
    "train<-cbind(train,trainy)\n",
    "test<-cbind(test,testy)"
   ]
  },
  {
   "cell_type": "code",
   "execution_count": null,
   "id": "26842e01",
   "metadata": {},
   "outputs": [],
   "source": [
    "#Using Random Forest for Predicting the Data\n",
    "\n",
    "trControl <- trainControl(method = \"cv\",\n",
    "                          number = 10,\n",
    "                          search = \"grid\")\n",
    "\n",
    "\n",
    "model1<-train(trainy~., train, method = \"rf\", trControl = trControl, tuneGrid = NULL)\n",
    "model1\n",
    "\n"
   ]
  },
  {
   "cell_type": "code",
   "execution_count": null,
   "id": "453004c6",
   "metadata": {},
   "outputs": [],
   "source": [
    "#Removing the Upfront_price,predicted_distance,predicted_duration\n",
    "\n",
    "trControl <- trainControl(method = \"cv\",\n",
    "                          number = 10,\n",
    "                          search = \"grid\")\n",
    "\n",
    "model2<-train(trainy~duration+distance+\n",
    "                gps_confidence+dest_change_number+\n",
    "                eu_indicator+overpaid_ride_ticket+fraud_score+\n",
    "                reason_for_pricing, train, method = \"rf\", trControl = trControl, tuneGrid = NULL)\n",
    "model2"
   ]
  },
  {
   "cell_type": "code",
   "execution_count": null,
   "id": "21b1aa31",
   "metadata": {},
   "outputs": [],
   "source": [
    "# Predicting the model1\n",
    "prediction1 <- predict(model1,test)\n",
    "head(prediction1)"
   ]
  },
  {
   "cell_type": "code",
   "execution_count": null,
   "id": "8455cfa6",
   "metadata": {},
   "outputs": [],
   "source": [
    "# Predicting the model2\n",
    "prediction2 <- predict(model2,test)\n",
    "head(prediction2)\n"
   ]
  },
  {
   "cell_type": "code",
   "execution_count": null,
   "id": "a6452dd4",
   "metadata": {
    "scrolled": true
   },
   "outputs": [],
   "source": [
    "#Graph to check the actual vs predicted how well the model1 performed\n",
    "plot(test$testy,type=\"l\",col=\"green\")\n",
    "lines(prediction1,type=\"l\",col=\"blue\")"
   ]
  },
  {
   "cell_type": "code",
   "execution_count": null,
   "id": "c50d5b69",
   "metadata": {},
   "outputs": [],
   "source": [
    "#Graph to check the actual vs predicted how well the model2 performed\n",
    "plot(test$testy,type=\"l\",col=\"green\")\n",
    "lines(prediction2,type=\"l\",col=\"blue\")\n"
   ]
  },
  {
   "cell_type": "code",
   "execution_count": null,
   "id": "8ca4b35b",
   "metadata": {},
   "outputs": [],
   "source": [
    "#Plotting Model1\n",
    "plot(predict(model1,test),testy,xlab=\"Predicte value\",ylab=\"Observed Value\")\n",
    "abline(a=0,b=1,col=\"red\",lwd=2)"
   ]
  },
  {
   "cell_type": "code",
   "execution_count": null,
   "id": "13f385d7",
   "metadata": {},
   "outputs": [],
   "source": [
    "#Plotting Model2\n",
    "plot(predict(model2,test),testy,xlab=\"Predicte value\",ylab=\"Observed Value\")\n",
    "abline(a=0,b=1,col=\"red\",lwd=2)"
   ]
  },
  {
   "cell_type": "code",
   "execution_count": null,
   "id": "33796bae",
   "metadata": {},
   "outputs": [],
   "source": [
    "#Renaming and Creating the final Result of the DATA1\n",
    "final_data1<-cbind(test_data,prediction1)%>% \n",
    "  relocate(testy, prediction1, .before = distance)%>% \n",
    "  rename(metered_price=testy,predicted_price=prediction1)%>% \n",
    "  select(upfront_price,metered_price,predicted_price)"
   ]
  },
  {
   "cell_type": "code",
   "execution_count": null,
   "id": "3c6dd5b5",
   "metadata": {},
   "outputs": [],
   "source": [
    "#Renaming and Creating the final Result of the DATA2\n",
    "final_data2<-cbind(test_data,prediction2)%>% \n",
    "  relocate(testy, prediction2, .before = distance)%>% \n",
    "  rename(metered_price=testy,predicted_price=prediction2)%>% \n",
    "  select(upfront_price,metered_price,predicted_price)"
   ]
  },
  {
   "cell_type": "code",
   "execution_count": null,
   "id": "bf9c528f",
   "metadata": {},
   "outputs": [],
   "source": [
    "write.xlsx(final_data,\"~/Result5.xlsx\")"
   ]
  }
 ],
 "metadata": {
  "kernelspec": {
   "display_name": "R",
   "language": "R",
   "name": "ir"
  },
  "language_info": {
   "codemirror_mode": "r",
   "file_extension": ".r",
   "mimetype": "text/x-r-source",
   "name": "R",
   "pygments_lexer": "r",
   "version": "4.1.2"
  }
 },
 "nbformat": 4,
 "nbformat_minor": 5
}
